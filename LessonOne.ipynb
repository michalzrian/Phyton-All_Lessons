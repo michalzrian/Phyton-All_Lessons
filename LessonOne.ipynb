{
 "cells": [
  {
   "cell_type": "code",
   "execution_count": 4,
   "id": "eaa2bdf1-7480-4a5f-bfe8-e46b6fb2e467",
   "metadata": {},
   "outputs": [
    {
     "name": "stdout",
     "output_type": "stream",
     "text": [
      "Requirement already satisfied: numpy in c:\\python310\\lib\\site-packages (1.26.4)\n",
      "Note: you may need to restart the kernel to use updated packages.\n"
     ]
    },
    {
     "name": "stderr",
     "output_type": "stream",
     "text": [
      "\n",
      "[notice] A new release of pip is available: 23.3.2 -> 24.0\n",
      "[notice] To update, run: python.exe -m pip install --upgrade pip\n"
     ]
    }
   ],
   "source": [
    "pip install numpy"
   ]
  },
  {
   "cell_type": "code",
   "execution_count": 5,
   "id": "da641dfc-c3d2-45b9-a319-e525d557228e",
   "metadata": {},
   "outputs": [],
   "source": [
    "import numpy as np"
   ]
  },
  {
   "cell_type": "code",
   "execution_count": 6,
   "id": "a42b2ccf-366f-46e3-a9a2-05ad236672d8",
   "metadata": {},
   "outputs": [],
   "source": [
    "array = np.random.randint(1,50,size = 10)"
   ]
  },
  {
   "cell_type": "code",
   "execution_count": 7,
   "id": "8d17a204-742a-4a16-9ee9-7d4fc3eec0c5",
   "metadata": {},
   "outputs": [
    {
     "data": {
      "text/plain": [
       "10"
      ]
     },
     "execution_count": 7,
     "metadata": {},
     "output_type": "execute_result"
    }
   ],
   "source": [
    "array.size"
   ]
  },
  {
   "cell_type": "code",
   "execution_count": 8,
   "id": "0411236c-e52a-4300-b36d-c566bdb724ff",
   "metadata": {},
   "outputs": [
    {
     "data": {
      "text/plain": [
       "dtype('int32')"
      ]
     },
     "execution_count": 8,
     "metadata": {},
     "output_type": "execute_result"
    }
   ],
   "source": [
    "array.dtype"
   ]
  },
  {
   "cell_type": "code",
   "execution_count": 9,
   "id": "3a2cc276-32be-4380-af6a-4aecbab9475b",
   "metadata": {},
   "outputs": [
    {
     "data": {
      "text/plain": [
       "1"
      ]
     },
     "execution_count": 9,
     "metadata": {},
     "output_type": "execute_result"
    }
   ],
   "source": [
    "np.ndim(array)"
   ]
  },
  {
   "cell_type": "code",
   "execution_count": 11,
   "id": "9e3689f7-2d23-4346-a2aa-011ede373621",
   "metadata": {},
   "outputs": [],
   "source": [
    "threed = np.random.randint(10,100,size = (2,5) )"
   ]
  },
  {
   "cell_type": "code",
   "execution_count": 12,
   "id": "3242df09-02bc-48c8-9ff5-a4c8c5ba0c96",
   "metadata": {},
   "outputs": [
    {
     "data": {
      "text/plain": [
       "array([[93, 18, 15, 10, 18],\n",
       "       [66, 87, 73, 22, 58]])"
      ]
     },
     "execution_count": 12,
     "metadata": {},
     "output_type": "execute_result"
    }
   ],
   "source": [
    "threed"
   ]
  },
  {
   "cell_type": "code",
   "execution_count": 13,
   "id": "ada4b8d2-4009-4100-aa58-de14aca888f7",
   "metadata": {},
   "outputs": [
    {
     "data": {
      "text/plain": [
       "(2, 5)"
      ]
     },
     "execution_count": 13,
     "metadata": {},
     "output_type": "execute_result"
    }
   ],
   "source": [
    "threed.shape"
   ]
  },
  {
   "cell_type": "raw",
   "id": "180addca-65ab-4522-ae41-9e3a93edc379",
   "metadata": {},
   "source": [
    "exersize2"
   ]
  },
  {
   "cell_type": "code",
   "execution_count": 15,
   "id": "f30ef3fb-907b-4f1b-9950-9175bf5374d6",
   "metadata": {},
   "outputs": [],
   "source": [
    "array2 = np.random.randint(1,50,size = 10)"
   ]
  },
  {
   "cell_type": "code",
   "execution_count": 16,
   "id": "32025139-79f7-4bd7-be6f-9cfcfdb8d644",
   "metadata": {},
   "outputs": [
    {
     "data": {
      "text/plain": [
       "24.3"
      ]
     },
     "execution_count": 16,
     "metadata": {},
     "output_type": "execute_result"
    }
   ],
   "source": [
    "np.mean(array2)"
   ]
  },
  {
   "cell_type": "code",
   "execution_count": 18,
   "id": "ebc1f98e-eb39-4079-9ee2-f75e9fe6a39b",
   "metadata": {},
   "outputs": [
    {
     "data": {
      "text/plain": [
       "88.1"
      ]
     },
     "execution_count": 18,
     "metadata": {},
     "output_type": "execute_result"
    }
   ],
   "source": [
    "threed = np.random.randint(10,100,size = (2,5) )\n",
    "threed2 = np.random.randint(10,100,size = (2,5) )\n",
    "twothreed = np.add(threed,threed2)\n",
    "np.mean(twothreed)"
   ]
  },
  {
   "cell_type": "code",
   "execution_count": 19,
   "id": "e5e94ce3-3ea8-4e60-aa4d-c7fea9804b2c",
   "metadata": {},
   "outputs": [],
   "source": [
    "array = np.random.randint(1,100,size = (20) )\n",
    "condition = array > 50\n"
   ]
  },
  {
   "cell_type": "code",
   "execution_count": 20,
   "id": "0455df3d-a3b2-4172-9c4d-b8edcd1c30a9",
   "metadata": {},
   "outputs": [
    {
     "data": {
      "text/plain": [
       "array([False, False, False, False,  True, False,  True,  True, False,\n",
       "       False,  True, False, False, False, False, False,  True, False,\n",
       "       False, False])"
      ]
     },
     "execution_count": 20,
     "metadata": {},
     "output_type": "execute_result"
    }
   ],
   "source": [
    "condition"
   ]
  },
  {
   "cell_type": "code",
   "execution_count": null,
   "id": "657e0c96-f2d4-4fa8-bddd-247a14f7d5d9",
   "metadata": {},
   "outputs": [],
   "source": [
    "array = np.random.randint(1,10)\n"
   ]
  }
 ],
 "metadata": {
  "kernelspec": {
   "display_name": "Python 3 (ipykernel)",
   "language": "python",
   "name": "python3"
  },
  "language_info": {
   "codemirror_mode": {
    "name": "ipython",
    "version": 3
   },
   "file_extension": ".py",
   "mimetype": "text/x-python",
   "name": "python",
   "nbconvert_exporter": "python",
   "pygments_lexer": "ipython3",
   "version": "3.10.8"
  }
 },
 "nbformat": 4,
 "nbformat_minor": 5
}
